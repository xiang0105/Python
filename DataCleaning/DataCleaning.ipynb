{
 "cells": [
  {
   "cell_type": "markdown",
   "id": "142c687c",
   "metadata": {},
   "source": [
    "### 資料集特點：\n",
    "* 稀樹草原火災：稀樹草原生態系火災產生的排放物。\n",
    "* 森林火災：森林地區火災產生的排放物。\n",
    "* 作物殘留物：作物收穫後燃燒或分解剩餘植物材料所產生的排放。\n",
    "* 水稻種植：水稻種植過程中釋放的甲烷排放量。\n",
    "* 排水有機土壤（CO2）：排水有機土壤時釋放的二氧化碳排放物。\n",
    "* 農藥製造：農藥生產過程中所產生的排放。\n",
    "* 食品運輸：運輸食品所產生的排放。\n",
    "* 林地：被森林覆蓋的土地。\n",
    "* 淨森林轉換率：由於砍伐森林和造林造成的森林面積變化。\n",
    "* 家庭食品消費：家庭食品消費所產生的排放。\n",
    "* 食品零售：食品零售機構運作過程中產生的排放。\n",
    "* 農場用電量：農場的電力消耗。\n",
    "* 食品包裝：食品包裝材料生產處理過程中產生的排放。\n",
    "* 農業食品系統廢棄物處理：農業食品系統中廢棄物處理產生的排放。\n",
    "* 食品加工：食品加工過程中所產生的排放。\n",
    "* 化肥製造：化肥生產過程中所產生的排放。\n",
    "* IPPU：工業製程和產品使用所產生的排放。\n",
    "* 施用於土壤的肥料：將動物肥料施用於農業土壤所產生的排放。\n",
    "* 牧場上殘留的糞便：牧場或放牧地上的動物糞便的排放。\n",
    "* 糞便管理：管理和處理動物糞便產生的排放。\n",
    "* 有機土壤火災：有機土壤火災產生的排放物。\n",
    "* 濕潤熱帶森林火災：濕潤熱帶森林火災產生的排放物。\n",
    "* 農場能源使用：農場的能源消耗。\n",
    "* 鄉村人口：居住在鄉村地區的人口數。\n",
    "* 城市人口：居住在城市地區的人口數。\n",
    "* 總人口 - 男性：人口中男性個體總數。\n",
    "* 總人口 - 女性：人口中女性總數。\n",
    "* 平均氣溫 °C：平均氣溫上升（按年），以攝氏度為單位，\n",
    "### 觀測值\n",
    "* total_emission：來自各種來源的溫室氣體總排放量。"
   ]
  },
  {
   "cell_type": "markdown",
   "id": "0e23fd54",
   "metadata": {},
   "source": [
    "### 安裝掛件"
   ]
  },
  {
   "cell_type": "code",
   "execution_count": 1,
   "id": "5beb1154",
   "metadata": {},
   "outputs": [
    {
     "name": "stdout",
     "output_type": "stream",
     "text": [
      "Requirement already satisfied: pandas in c:\\users\\56433\\appdata\\local\\programs\\python\\python310\\lib\\site-packages (2.2.3)\n",
      "Requirement already satisfied: numpy>=1.22.4 in c:\\users\\56433\\appdata\\local\\programs\\python\\python310\\lib\\site-packages (from pandas) (2.0.2)\n",
      "Requirement already satisfied: python-dateutil>=2.8.2 in c:\\users\\56433\\appdata\\local\\programs\\python\\python310\\lib\\site-packages (from pandas) (2.9.0.post0)\n",
      "Requirement already satisfied: pytz>=2020.1 in c:\\users\\56433\\appdata\\local\\programs\\python\\python310\\lib\\site-packages (from pandas) (2024.2)\n",
      "Requirement already satisfied: tzdata>=2022.7 in c:\\users\\56433\\appdata\\local\\programs\\python\\python310\\lib\\site-packages (from pandas) (2024.2)\n",
      "Requirement already satisfied: six>=1.5 in c:\\users\\56433\\appdata\\local\\programs\\python\\python310\\lib\\site-packages (from python-dateutil>=2.8.2->pandas) (1.17.0)\n",
      "Note: you may need to restart the kernel to use updated packages.\n"
     ]
    }
   ],
   "source": [
    "%pip install pandas"
   ]
  },
  {
   "cell_type": "markdown",
   "id": "ffbfe10b",
   "metadata": {},
   "source": [
    "### 導入掛件"
   ]
  },
  {
   "cell_type": "code",
   "execution_count": 2,
   "id": "e3e55ddb",
   "metadata": {},
   "outputs": [],
   "source": [
    "import pandas as pd"
   ]
  },
  {
   "cell_type": "markdown",
   "id": "79d36eff",
   "metadata": {},
   "source": [
    "### 讀取csv檔案"
   ]
  },
  {
   "cell_type": "code",
   "execution_count": 3,
   "id": "3d8de416",
   "metadata": {},
   "outputs": [],
   "source": [
    "df = pd.read_csv('./dataset/Agrofood_co2_emission.csv')"
   ]
  },
  {
   "cell_type": "markdown",
   "id": "51259b1c",
   "metadata": {},
   "source": [
    "### 敘述統計"
   ]
  },
  {
   "cell_type": "code",
   "execution_count": 4,
   "id": "985dec4d",
   "metadata": {},
   "outputs": [
    {
     "name": "stdout",
     "output_type": "stream",
     "text": [
      "              Year  Savanna fires  Forest fires  Crop Residues  \\\n",
      "count  6965.000000    6934.000000   6872.000000    5576.000000   \n",
      "mean   2005.124910    1188.390893    919.302167     998.706309   \n",
      "std       8.894665    5246.287783   3720.078752    3700.345330   \n",
      "min    1990.000000       0.000000      0.000000       0.000200   \n",
      "25%    1997.000000       0.000000      0.000000      11.006525   \n",
      "50%    2005.000000       1.651850      0.517900     103.698200   \n",
      "75%    2013.000000     111.081400     64.950775     377.640975   \n",
      "max    2020.000000  114616.401100  52227.630600   33490.074100   \n",
      "\n",
      "       Rice Cultivation  Drained organic soils (CO2)  \\\n",
      "count       6965.000000                  6965.000000   \n",
      "mean        4259.666673                  3503.228636   \n",
      "std        17613.825187                 15861.445678   \n",
      "min            0.000000                     0.000000   \n",
      "25%          181.260800                     0.000000   \n",
      "50%          534.817400                     0.000000   \n",
      "75%         1536.640000                   690.408800   \n",
      "max       164915.255600                241025.069600   \n",
      "\n",
      "       Pesticides Manufacturing  Food Transport     Forestland  \\\n",
      "count               6965.000000     6965.000000    6472.000000   \n",
      "mean                 333.418393     1939.581760  -17828.285678   \n",
      "std                 1429.159367     5616.748808   81832.210543   \n",
      "min                    0.000000        0.000100 -797183.079000   \n",
      "25%                    6.000000       27.958600   -2848.350000   \n",
      "50%                   13.000000      204.962800     -62.920000   \n",
      "75%                  116.325487     1207.000900       0.000000   \n",
      "max                16459.000000    67945.765000  171121.076000   \n",
      "\n",
      "       Net Forest conversion  ...  Manure Management  Fires in organic soils  \\\n",
      "count           6.472000e+03  ...        6037.000000             6965.000000   \n",
      "mean            1.760564e+04  ...        2263.344946             1210.315532   \n",
      "std             1.011575e+05  ...        7980.542461            22669.847760   \n",
      "min             0.000000e+00  ...           0.432900                0.000000   \n",
      "25%             0.000000e+00  ...          37.632100                0.000000   \n",
      "50%             4.444000e+01  ...         269.856300                0.000000   \n",
      "75%             4.701746e+03  ...        1126.818900                0.000000   \n",
      "max             1.605106e+06  ...       70592.646500           991717.543100   \n",
      "\n",
      "       Fires in humid tropical forests  On-farm energy use  Rural population  \\\n",
      "count                      6810.000000         6009.000000      6.965000e+03   \n",
      "mean                        668.452931         3008.982252      1.785774e+07   \n",
      "std                        3264.879486        12637.864430      8.901521e+07   \n",
      "min                           0.000000            0.031900      0.000000e+00   \n",
      "25%                           0.000000           13.291900      9.731100e+04   \n",
      "50%                           0.000000          141.096300      1.595322e+06   \n",
      "75%                           9.577875         1136.925400      8.177340e+06   \n",
      "max                       51771.256800       248879.176900      9.000991e+08   \n",
      "\n",
      "       Urban population  Total Population - Male  Total Population - Female  \\\n",
      "count      6.965000e+03             6.965000e+03               6.965000e+03   \n",
      "mean       1.693230e+07             1.761963e+07               1.732447e+07   \n",
      "std        6.574362e+07             7.603993e+07               7.251711e+07   \n",
      "min        0.000000e+00             2.500000e+02               2.700000e+02   \n",
      "25%        2.173860e+05             2.013260e+05               2.078900e+05   \n",
      "50%        2.357581e+06             2.469660e+06               2.444135e+06   \n",
      "75%        8.277123e+06             9.075924e+06               9.112588e+06   \n",
      "max        9.020778e+08             7.435866e+08               7.133419e+08   \n",
      "\n",
      "       total_emission  Average Temperature °C  \n",
      "count    6.965000e+03             6965.000000  \n",
      "mean     6.409124e+04                0.872989  \n",
      "std      2.283130e+05                0.555930  \n",
      "min     -3.918841e+05               -1.415833  \n",
      "25%      5.221244e+03                0.511333  \n",
      "50%      1.214765e+04                0.834300  \n",
      "75%      3.513973e+04                1.206750  \n",
      "max      3.115114e+06                3.558083  \n",
      "\n",
      "[8 rows x 30 columns]\n"
     ]
    }
   ],
   "source": [
    "print(df.describe())"
   ]
  },
  {
   "cell_type": "markdown",
   "id": "283df110",
   "metadata": {},
   "source": [
    "### 檢查變數型態"
   ]
  },
  {
   "cell_type": "code",
   "execution_count": 5,
   "id": "260e23d7",
   "metadata": {},
   "outputs": [
    {
     "name": "stdout",
     "output_type": "stream",
     "text": [
      "Area                                object\n",
      "Year                                 int64\n",
      "Savanna fires                      float64\n",
      "Forest fires                       float64\n",
      "Crop Residues                      float64\n",
      "Rice Cultivation                   float64\n",
      "Drained organic soils (CO2)        float64\n",
      "Pesticides Manufacturing           float64\n",
      "Food Transport                     float64\n",
      "Forestland                         float64\n",
      "Net Forest conversion              float64\n",
      "Food Household Consumption         float64\n",
      "Food Retail                        float64\n",
      "On-farm Electricity Use            float64\n",
      "Food Packaging                     float64\n",
      "Agrifood Systems Waste Disposal    float64\n",
      "Food Processing                    float64\n",
      "Fertilizers Manufacturing          float64\n",
      "IPPU                               float64\n",
      "Manure applied to Soils            float64\n",
      "Manure left on Pasture             float64\n",
      "Manure Management                  float64\n",
      "Fires in organic soils             float64\n",
      "Fires in humid tropical forests    float64\n",
      "On-farm energy use                 float64\n",
      "Rural population                     int64\n",
      "Urban population                     int64\n",
      "Total Population - Male            float64\n",
      "Total Population - Female          float64\n",
      "total_emission                     float64\n",
      "Average Temperature °C             float64\n",
      "dtype: object\n"
     ]
    }
   ],
   "source": [
    "print(df.dtypes)"
   ]
  },
  {
   "cell_type": "markdown",
   "id": "19a5e937",
   "metadata": {},
   "source": [
    "### 檢查缺失值"
   ]
  },
  {
   "cell_type": "code",
   "execution_count": 6,
   "id": "069151e8",
   "metadata": {},
   "outputs": [
    {
     "name": "stdout",
     "output_type": "stream",
     "text": [
      "Area                                  0\n",
      "Year                                  0\n",
      "Savanna fires                        31\n",
      "Forest fires                         93\n",
      "Crop Residues                      1389\n",
      "Rice Cultivation                      0\n",
      "Drained organic soils (CO2)           0\n",
      "Pesticides Manufacturing              0\n",
      "Food Transport                        0\n",
      "Forestland                          493\n",
      "Net Forest conversion               493\n",
      "Food Household Consumption          473\n",
      "Food Retail                           0\n",
      "On-farm Electricity Use               0\n",
      "Food Packaging                        0\n",
      "Agrifood Systems Waste Disposal       0\n",
      "Food Processing                       0\n",
      "Fertilizers Manufacturing             0\n",
      "IPPU                                743\n",
      "Manure applied to Soils             928\n",
      "Manure left on Pasture                0\n",
      "Manure Management                   928\n",
      "Fires in organic soils                0\n",
      "Fires in humid tropical forests     155\n",
      "On-farm energy use                  956\n",
      "Rural population                      0\n",
      "Urban population                      0\n",
      "Total Population - Male               0\n",
      "Total Population - Female             0\n",
      "total_emission                        0\n",
      "Average Temperature °C                0\n",
      "dtype: int64\n"
     ]
    }
   ],
   "source": [
    "print(df.isnull().sum())"
   ]
  },
  {
   "cell_type": "code",
   "execution_count": 7,
   "id": "3b54df4b",
   "metadata": {},
   "outputs": [],
   "source": [
    "df_cleaned = df.dropna()"
   ]
  },
  {
   "cell_type": "markdown",
   "id": "838a4a38",
   "metadata": {},
   "source": [
    "### 直接刪除缺失值 剩下總筆數:4546"
   ]
  },
  {
   "cell_type": "code",
   "execution_count": 8,
   "id": "3a14cf43",
   "metadata": {},
   "outputs": [
    {
     "name": "stdout",
     "output_type": "stream",
     "text": [
      "0\n"
     ]
    }
   ],
   "source": [
    "print(df_cleaned.duplicated().sum())"
   ]
  },
  {
   "cell_type": "markdown",
   "id": "cc7465b3",
   "metadata": {},
   "source": [
    "### 確認重複值"
   ]
  },
  {
   "cell_type": "code",
   "execution_count": 9,
   "id": "e604610c",
   "metadata": {},
   "outputs": [],
   "source": [
    "df_cleaned.to_csv('output.csv', index=False)"
   ]
  },
  {
   "cell_type": "markdown",
   "id": "15257dd8",
   "metadata": {},
   "source": [
    "### 輸出成csv檔案"
   ]
  }
 ],
 "metadata": {
  "kernelspec": {
   "display_name": "Python 3",
   "language": "python",
   "name": "python3"
  },
  "language_info": {
   "codemirror_mode": {
    "name": "ipython",
    "version": 3
   },
   "file_extension": ".py",
   "mimetype": "text/x-python",
   "name": "python",
   "nbconvert_exporter": "python",
   "pygments_lexer": "ipython3",
   "version": "3.10.11"
  }
 },
 "nbformat": 4,
 "nbformat_minor": 5
}
